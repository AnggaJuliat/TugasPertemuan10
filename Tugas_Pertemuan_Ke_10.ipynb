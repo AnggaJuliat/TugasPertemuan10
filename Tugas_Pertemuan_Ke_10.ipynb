{
  "nbformat": 4,
  "nbformat_minor": 0,
  "metadata": {
    "accelerator": "GPU",
    "colab": {
      "name": "Tugas Pertemuan Ke-10.ipynb",
      "provenance": [],
      "collapsed_sections": [],
      "toc_visible": true,
      "include_colab_link": true
    },
    "kernelspec": {
      "display_name": "Python 3",
      "name": "python3"
    },
    "language_info": {
      "codemirror_mode": {
        "name": "ipython",
        "version": 3
      },
      "file_extension": ".py",
      "mimetype": "text/x-python",
      "name": "python",
      "nbconvert_exporter": "python",
      "pygments_lexer": "ipython3",
      "version": "3.7.4"
    }
  },
  "cells": [
    {
      "cell_type": "markdown",
      "metadata": {
        "id": "view-in-github",
        "colab_type": "text"
      },
      "source": [
        "<a href=\"https://colab.research.google.com/github/AnggaJuliat/TugasPertemuan10/blob/main/Tugas_Pertemuan_Ke_10.ipynb\" target=\"_parent\"><img src=\"https://colab.research.google.com/assets/colab-badge.svg\" alt=\"Open In Colab\"/></a>"
      ]
    },
    {
      "cell_type": "code",
      "metadata": {
        "colab": {
          "base_uri": "https://localhost:8080/"
        },
        "id": "_dJvuvIBVLS_",
        "outputId": "71ec74be-d5a6-4ac2-a198-2cfa932463a1"
      },
      "source": [
        "from google.colab import drive\n",
        "drive.mount('/content/drive')"
      ],
      "execution_count": 19,
      "outputs": [
        {
          "output_type": "stream",
          "text": [
            "Drive already mounted at /content/drive; to attempt to forcibly remount, call drive.mount(\"/content/drive\", force_remount=True).\n"
          ],
          "name": "stdout"
        }
      ]
    },
    {
      "cell_type": "code",
      "metadata": {
        "colab": {
          "base_uri": "https://localhost:8080/"
        },
        "id": "H215ikbNVVZS",
        "outputId": "c3eeac57-a579-4354-ba0a-c216d82310ec"
      },
      "source": [
        "cd /content/drive/My Drive/Colab Notebooks"
      ],
      "execution_count": 20,
      "outputs": [
        {
          "output_type": "stream",
          "text": [
            "/content/drive/My Drive/Colab Notebooks\n"
          ],
          "name": "stdout"
        }
      ]
    },
    {
      "cell_type": "code",
      "metadata": {
        "colab": {
          "base_uri": "https://localhost:8080/"
        },
        "id": "z7VB1d4wVdov",
        "outputId": "990ebde9-6f9a-4db9-e411-8f950d12c1e9"
      },
      "source": [
        "ls"
      ],
      "execution_count": 21,
      "outputs": [
        {
          "output_type": "stream",
          "text": [
            " \u001b[0m\u001b[01;34m3scene\u001b[0m/\n",
            "'Basic Python, Numpy and Matplotlib.ipynb'\n",
            " Corona_NLP_test.csv\n",
            " Corona_NLP_train.csv\n",
            " \u001b[01;34mGMB_daun\u001b[0m/\n",
            " scenes_nn_4_layers.ipynb\n",
            " TugasPenggantiUTS.ipynb\n",
            "'TugasPenggantuUTS_Kelompok 5.ipynb'\n",
            "'Tugas Pertemuan 10.ipynb'\n"
          ],
          "name": "stdout"
        }
      ]
    },
    {
      "cell_type": "code",
      "metadata": {
        "id": "5IGm26ZzVGBs"
      },
      "source": [
        "# import the necessary packages\n",
        "from keras.models import Sequential\n",
        "from keras.layers.convolutional import Conv2D\n",
        "from keras.layers.convolutional import MaxPooling2D\n",
        "from keras.layers.core import Activation\n",
        "from keras.layers.core import Flatten\n",
        "from keras.layers.core import Dense\n",
        "from keras.optimizers import Adam\n",
        "from sklearn.preprocessing import LabelBinarizer\n",
        "from sklearn.model_selection import train_test_split\n",
        "from sklearn.metrics import classification_report\n",
        "from PIL import Image\n",
        "from imutils import paths\n",
        "import numpy as np\n",
        "import os"
      ],
      "execution_count": 22,
      "outputs": []
    },
    {
      "cell_type": "code",
      "metadata": {
        "colab": {
          "base_uri": "https://localhost:8080/"
        },
        "id": "0-5PXYTsVGBw",
        "outputId": "2c68f371-3e3d-4cc6-863d-14c7a6e2fb2e"
      },
      "source": [
        "# grab all image paths in the input dataset directory, then initialize\n",
        "# our list of images and corresponding class labels\n",
        "print(\"[INFO] loading images...\")\n",
        "imagePaths = paths.list_images(\"GMB_daun\")\n",
        "data = []\n",
        "labels = []"
      ],
      "execution_count": 23,
      "outputs": [
        {
          "output_type": "stream",
          "text": [
            "[INFO] loading images...\n"
          ],
          "name": "stdout"
        }
      ]
    },
    {
      "cell_type": "code",
      "metadata": {
        "id": "9Q-KXSsGVGB0"
      },
      "source": [
        "# loop over our input images\n",
        "for imagePath in imagePaths:\n",
        "\t# load the input image from disk, resize it to 64x64 pixels, scale\n",
        "\t# the pixel intensities to the range [0, 1], and then update our\n",
        "\t# images list\n",
        "\timage = Image.open(imagePath)\n",
        "\timage = np.array(image.resize((224, 224))) / 255.0\n",
        "\tdata.append(image)\n",
        "\n",
        "\t# extract the class label from the file path and update the\n",
        "\t# labels list\n",
        "\tlabel = imagePath.split(os.path.sep)[-2]\n",
        "\tlabels.append(label)"
      ],
      "execution_count": 24,
      "outputs": []
    },
    {
      "cell_type": "code",
      "metadata": {
        "colab": {
          "base_uri": "https://localhost:8080/"
        },
        "id": "Rzbolh88VGB2",
        "outputId": "be4a7b54-3aaf-4bd0-9fbe-da4fe8c68845"
      },
      "source": [
        "print(labels)"
      ],
      "execution_count": 25,
      "outputs": [
        {
          "output_type": "stream",
          "text": [
            "['GMB_10', 'GMB_10', 'GMB_10', 'GMB_10', 'GMB_10', 'GMB_10', 'GMB_10', 'GMB_10', 'GMB_10', 'GMB_10', 'GMB_10', 'GMB_10', 'GMB_10', 'GMB_10', 'GMB_10', 'GMB_10', 'GMB_10', 'GMB_10', 'GMB_10', 'GMB_10', 'GMB_10', 'GMB_10', 'GMB_10', 'GMB_10', 'GMB_10', 'GMB_10', 'GMB_10', 'GMB_10', 'GMB_10', 'GMB_10', 'GMB_10', 'GMB_10', 'GMB_10', 'GMB_10', 'GMB_10', 'GMB_10', 'GMB_10', 'GMB_10', 'GMB_10', 'GMB_10', 'GMB_10', 'GMB_10', 'GMB_10', 'GMB_10', 'GMB_10', 'GMB_10', 'GMB_10', 'GMB_10', 'GMB_10', 'GMB_10', 'GMB_10', 'GMB_10', 'GMB_10', 'GMB_10', 'GMB_10', 'GMB_10', 'GMB_10', 'GMB_10', 'GMB_10', 'GMB_10', 'GMB_10', 'GMB_10', 'GMB_10', 'GMB_10', 'GMB_10', 'GMB_10', 'GMB_10', 'GMB_10', 'GMB_10', 'GMB_10', 'GMB_10', 'GMB_10', 'GMB_10', 'GMB_10', 'GMB_10', 'GMB_10', 'GMB_10', 'GMB_10', 'GMB_10', 'GMB_10', 'GMB_10', 'GMB_10', 'GMB_10', 'GMB_10', 'GMB_10', 'GMB_10', 'GMB_10', 'GMB_10', 'GMB_10', 'GMB_10', 'GMB_10', 'GMB_10', 'GMB_10', 'GMB_10', 'GMB_10', 'GMB_10', 'GMB_10', 'GMB_10', 'GMB_10', 'GMB_10', 'GMB_10', 'GMB_10', 'GMB_10', 'GMB_10', 'GMB_10', 'GMB_10', 'GMB_10', 'GMB_10', 'GMB_10', 'GMB_10', 'GMB_10', 'GMB_10', 'GMB_10', 'GMB_10', 'GMB_07', 'GMB_07', 'GMB_07', 'GMB_07', 'GMB_07', 'GMB_07', 'GMB_07', 'GMB_07', 'GMB_07', 'GMB_07', 'GMB_07', 'GMB_07', 'GMB_07', 'GMB_07', 'GMB_07', 'GMB_07', 'GMB_07', 'GMB_07', 'GMB_07', 'GMB_07', 'GMB_07', 'GMB_07', 'GMB_07', 'GMB_07', 'GMB_07', 'GMB_07', 'GMB_07', 'GMB_07', 'GMB_07', 'GMB_07', 'GMB_07', 'GMB_07', 'GMB_07', 'GMB_07', 'GMB_07', 'GMB_07', 'GMB_07', 'GMB_07', 'GMB_07', 'GMB_07', 'GMB_07', 'GMB_07', 'GMB_07', 'GMB_07', 'GMB_07', 'GMB_07', 'GMB_07', 'GMB_07', 'GMB_07', 'GMB_07', 'GMB_07', 'GMB_07', 'GMB_07', 'GMB_07', 'GMB_07', 'GMB_07', 'GMB_07', 'GMB_07', 'GMB_07', 'GMB_07', 'GMB_07', 'GMB_07', 'GMB_07', 'GMB_07', 'GMB_07', 'GMB_07', 'GMB_07', 'GMB_07', 'GMB_07', 'GMB_07', 'GMB_07', 'GMB_07', 'GMB_07', 'GMB_07', 'GMB_07', 'GMB_07', 'GMB_07', 'GMB_07', 'GMB_07', 'GMB_07', 'GMB_07', 'GMB_07', 'GMB_07', 'GMB_07', 'GMB_07', 'GMB_07', 'GMB_07', 'GMB_07', 'GMB_07', 'GMB_07', 'GMB_07', 'GMB_07', 'GMB_07', 'GMB_07', 'GMB_07', 'GMB_07', 'GMB_07', 'GMB_07', 'GMB_07', 'GMB_07', 'GMB_07', 'GMB_07', 'GMB_07', 'GMB_07', 'GMB_07', 'GMB_07', 'GMB_07', 'GMB_07', 'GMB_07', 'GMB_07', 'GMB_07', 'GMB_07', 'GMB_07', 'GMB_07', 'GMB_07', 'GMB_07', 'GMB_07', 'GMB_07', 'GMB_07', 'GMB_07', 'GMB_07', 'GMB_08', 'GMB_08', 'GMB_08', 'GMB_08', 'GMB_08', 'GMB_08', 'GMB_08', 'GMB_08', 'GMB_08', 'GMB_08', 'GMB_08', 'GMB_08', 'GMB_08', 'GMB_08', 'GMB_08', 'GMB_08', 'GMB_08', 'GMB_08', 'GMB_08', 'GMB_08', 'GMB_08', 'GMB_08', 'GMB_08', 'GMB_08', 'GMB_08', 'GMB_08', 'GMB_08', 'GMB_08', 'GMB_08', 'GMB_08', 'GMB_08', 'GMB_08', 'GMB_08', 'GMB_08', 'GMB_08', 'GMB_08', 'GMB_08', 'GMB_08', 'GMB_08', 'GMB_08', 'GMB_08', 'GMB_08', 'GMB_08', 'GMB_08', 'GMB_08', 'GMB_08', 'GMB_08', 'GMB_08', 'GMB_08', 'GMB_08', 'GMB_08', 'GMB_08', 'GMB_08', 'GMB_08', 'GMB_08', 'GMB_08', 'GMB_08', 'GMB_08', 'GMB_08', 'GMB_08', 'GMB_08', 'GMB_08', 'GMB_08', 'GMB_08', 'GMB_08', 'GMB_08', 'GMB_08', 'GMB_08', 'GMB_08', 'GMB_08', 'GMB_08', 'GMB_08', 'GMB_08', 'GMB_08', 'GMB_08', 'GMB_08', 'GMB_08', 'GMB_08', 'GMB_08', 'GMB_08', 'GMB_08', 'GMB_08', 'GMB_08', 'GMB_08', 'GMB_08', 'GMB_08', 'GMB_08', 'GMB_08', 'GMB_08', 'GMB_08', 'GMB_08', 'GMB_08', 'GMB_08', 'GMB_08', 'GMB_08', 'GMB_08', 'GMB_08', 'GMB_08', 'GMB_08', 'GMB_08', 'GMB_08', 'GMB_08', 'GMB_08', 'GMB_08', 'GMB_08', 'GMB_08', 'GMB_08', 'GMB_08', 'GMB_08', 'GMB_08', 'GMB_08', 'GMB_08', 'GMB_08', 'GMB_08', 'GMB_08', 'GMB_08', 'GMB_08', 'GMB_01', 'GMB_01', 'GMB_01', 'GMB_01', 'GMB_01', 'GMB_01', 'GMB_01', 'GMB_01', 'GMB_01', 'GMB_01', 'GMB_01', 'GMB_01', 'GMB_01', 'GMB_01', 'GMB_01', 'GMB_01', 'GMB_01', 'GMB_01', 'GMB_01', 'GMB_01', 'GMB_01', 'GMB_01', 'GMB_01', 'GMB_01', 'GMB_01', 'GMB_01', 'GMB_01', 'GMB_01', 'GMB_01', 'GMB_01', 'GMB_01', 'GMB_01', 'GMB_01', 'GMB_01', 'GMB_01', 'GMB_01', 'GMB_01', 'GMB_01', 'GMB_01', 'GMB_01', 'GMB_01', 'GMB_01', 'GMB_01', 'GMB_01', 'GMB_01', 'GMB_01', 'GMB_01', 'GMB_01', 'GMB_01', 'GMB_01', 'GMB_01', 'GMB_01', 'GMB_01', 'GMB_01', 'GMB_01', 'GMB_01', 'GMB_01', 'GMB_01', 'GMB_01', 'GMB_01', 'GMB_01', 'GMB_01', 'GMB_01', 'GMB_01', 'GMB_01', 'GMB_01', 'GMB_01', 'GMB_01', 'GMB_01', 'GMB_01', 'GMB_01', 'GMB_01', 'GMB_01', 'GMB_01', 'GMB_01', 'GMB_01', 'GMB_01', 'GMB_01', 'GMB_01', 'GMB_01', 'GMB_01', 'GMB_01', 'GMB_01', 'GMB_01', 'GMB_01', 'GMB_01', 'GMB_01', 'GMB_01', 'GMB_01', 'GMB_01', 'GMB_01', 'GMB_01', 'GMB_01', 'GMB_01', 'GMB_01', 'GMB_01', 'GMB_01', 'GMB_01', 'GMB_01', 'GMB_01', 'GMB_01', 'GMB_01', 'GMB_01', 'GMB_01', 'GMB_01', 'GMB_01', 'GMB_01', 'GMB_01', 'GMB_01', 'GMB_01', 'GMB_01', 'GMB_01', 'GMB_01', 'GMB_01', 'GMB_01', 'GMB_01', 'GMB_02', 'GMB_02', 'GMB_02', 'GMB_02', 'GMB_02', 'GMB_02', 'GMB_02', 'GMB_02', 'GMB_02', 'GMB_02', 'GMB_02', 'GMB_02', 'GMB_02', 'GMB_02', 'GMB_02', 'GMB_02', 'GMB_02', 'GMB_02', 'GMB_02', 'GMB_02', 'GMB_02', 'GMB_02', 'GMB_02', 'GMB_02', 'GMB_02', 'GMB_02', 'GMB_02', 'GMB_02', 'GMB_02', 'GMB_02', 'GMB_02', 'GMB_02', 'GMB_02', 'GMB_02', 'GMB_02', 'GMB_02', 'GMB_02', 'GMB_02', 'GMB_02', 'GMB_02', 'GMB_02', 'GMB_02', 'GMB_02', 'GMB_02', 'GMB_02', 'GMB_02', 'GMB_02', 'GMB_02', 'GMB_02', 'GMB_02', 'GMB_02', 'GMB_02', 'GMB_02', 'GMB_02', 'GMB_02', 'GMB_02', 'GMB_02', 'GMB_02', 'GMB_02', 'GMB_02', 'GMB_02', 'GMB_02', 'GMB_02', 'GMB_02', 'GMB_02', 'GMB_02', 'GMB_02', 'GMB_02', 'GMB_02', 'GMB_02', 'GMB_02', 'GMB_02', 'GMB_02', 'GMB_02', 'GMB_02', 'GMB_02', 'GMB_02', 'GMB_02', 'GMB_02', 'GMB_02', 'GMB_02', 'GMB_02', 'GMB_02', 'GMB_02', 'GMB_02', 'GMB_02', 'GMB_02', 'GMB_02', 'GMB_02', 'GMB_02', 'GMB_02', 'GMB_02', 'GMB_02', 'GMB_02', 'GMB_02', 'GMB_02', 'GMB_02', 'GMB_02', 'GMB_02', 'GMB_02', 'GMB_02', 'GMB_02', 'GMB_02', 'GMB_02', 'GMB_02', 'GMB_02', 'GMB_02', 'GMB_02', 'GMB_02', 'GMB_02', 'GMB_02', 'GMB_02', 'GMB_02']\n"
          ],
          "name": "stdout"
        }
      ]
    },
    {
      "cell_type": "code",
      "metadata": {
        "id": "twd1IeuKVGB5"
      },
      "source": [
        "# encode the labels, converting them from strings to integers\n",
        "lb = LabelBinarizer()\n",
        "labels = lb.fit_transform(labels)"
      ],
      "execution_count": 26,
      "outputs": []
    },
    {
      "cell_type": "code",
      "metadata": {
        "colab": {
          "base_uri": "https://localhost:8080/"
        },
        "id": "5FPCyIqcVGB7",
        "outputId": "d4651a85-8e1a-4e28-ba65-12211aa0a671"
      },
      "source": [
        "print(labels)"
      ],
      "execution_count": null,
      "outputs": [
        {
          "output_type": "stream",
          "text": [
            "[[0 0 0 0 1]\n",
            " [0 0 0 0 1]\n",
            " [0 0 0 0 1]\n",
            " ...\n",
            " [0 1 0 0 0]\n",
            " [0 1 0 0 0]\n",
            " [0 1 0 0 0]]\n"
          ],
          "name": "stdout"
        }
      ]
    },
    {
      "cell_type": "code",
      "metadata": {
        "colab": {
          "base_uri": "https://localhost:8080/"
        },
        "id": "ktZ5hNYwVGB9",
        "outputId": "3ac1707e-b35f-4415-a730-161a4123333a"
      },
      "source": [
        "# split data untuk training dan testing 80% data digunakan untuk training dan 20% untuk evaluasi\n",
        "\n",
        "(trainX, testX, trainY, testY) = train_test_split(np.array(data),\tnp.array(labels), test_size=0.20)\n",
        "print(trainX.shape)\n",
        "print(testX.shape)"
      ],
      "execution_count": 27,
      "outputs": [
        {
          "output_type": "stream",
          "text": [
            "(464, 224, 224, 3)\n",
            "(117, 224, 224, 3)\n"
          ],
          "name": "stdout"
        }
      ]
    },
    {
      "cell_type": "code",
      "metadata": {
        "id": "-1LK97ZhDrRZ"
      },
      "source": [
        "from keras.applications.mobilenet import MobileNet\n",
        "from keras.callbacks import EarlyStopping, ModelCheckpoint\n",
        "from keras.models import Model\n",
        "from keras.layers import GlobalAveragePooling2D, BatchNormalization"
      ],
      "execution_count": 28,
      "outputs": []
    },
    {
      "cell_type": "code",
      "metadata": {
        "colab": {
          "base_uri": "https://localhost:8080/"
        },
        "id": "1gv-u7AfEBQg",
        "outputId": "00d60d8a-ded0-4d3d-84ba-99bc19f0388f"
      },
      "source": [
        "from keras.layers import Dropout\n",
        "base_model = MobileNet(weights='imagenet', include_top=False)\n",
        "x = base_model.output\n",
        "x = GlobalAveragePooling2D()(x)\n",
        "x = Dropout(0.5)(x)\n",
        "x = BatchNormalization()(x)\n",
        "x = Dense(512, activation='relu')(x)\n",
        "out = Dense(3, activation='softmax')(x)\n",
        "\n",
        "model = Model(inputs=base_model.input, outputs=out)\n",
        "model.summary()"
      ],
      "execution_count": 29,
      "outputs": [
        {
          "output_type": "stream",
          "text": [
            "WARNING:tensorflow:`input_shape` is undefined or non-square, or `rows` is not in [128, 160, 192, 224]. Weights for input shape (224, 224) will be loaded as the default.\n",
            "Model: \"functional_1\"\n",
            "_________________________________________________________________\n",
            "Layer (type)                 Output Shape              Param #   \n",
            "=================================================================\n",
            "input_1 (InputLayer)         [(None, None, None, 3)]   0         \n",
            "_________________________________________________________________\n",
            "conv1_pad (ZeroPadding2D)    (None, None, None, 3)     0         \n",
            "_________________________________________________________________\n",
            "conv1 (Conv2D)               (None, None, None, 32)    864       \n",
            "_________________________________________________________________\n",
            "conv1_bn (BatchNormalization (None, None, None, 32)    128       \n",
            "_________________________________________________________________\n",
            "conv1_relu (ReLU)            (None, None, None, 32)    0         \n",
            "_________________________________________________________________\n",
            "conv_dw_1 (DepthwiseConv2D)  (None, None, None, 32)    288       \n",
            "_________________________________________________________________\n",
            "conv_dw_1_bn (BatchNormaliza (None, None, None, 32)    128       \n",
            "_________________________________________________________________\n",
            "conv_dw_1_relu (ReLU)        (None, None, None, 32)    0         \n",
            "_________________________________________________________________\n",
            "conv_pw_1 (Conv2D)           (None, None, None, 64)    2048      \n",
            "_________________________________________________________________\n",
            "conv_pw_1_bn (BatchNormaliza (None, None, None, 64)    256       \n",
            "_________________________________________________________________\n",
            "conv_pw_1_relu (ReLU)        (None, None, None, 64)    0         \n",
            "_________________________________________________________________\n",
            "conv_pad_2 (ZeroPadding2D)   (None, None, None, 64)    0         \n",
            "_________________________________________________________________\n",
            "conv_dw_2 (DepthwiseConv2D)  (None, None, None, 64)    576       \n",
            "_________________________________________________________________\n",
            "conv_dw_2_bn (BatchNormaliza (None, None, None, 64)    256       \n",
            "_________________________________________________________________\n",
            "conv_dw_2_relu (ReLU)        (None, None, None, 64)    0         \n",
            "_________________________________________________________________\n",
            "conv_pw_2 (Conv2D)           (None, None, None, 128)   8192      \n",
            "_________________________________________________________________\n",
            "conv_pw_2_bn (BatchNormaliza (None, None, None, 128)   512       \n",
            "_________________________________________________________________\n",
            "conv_pw_2_relu (ReLU)        (None, None, None, 128)   0         \n",
            "_________________________________________________________________\n",
            "conv_dw_3 (DepthwiseConv2D)  (None, None, None, 128)   1152      \n",
            "_________________________________________________________________\n",
            "conv_dw_3_bn (BatchNormaliza (None, None, None, 128)   512       \n",
            "_________________________________________________________________\n",
            "conv_dw_3_relu (ReLU)        (None, None, None, 128)   0         \n",
            "_________________________________________________________________\n",
            "conv_pw_3 (Conv2D)           (None, None, None, 128)   16384     \n",
            "_________________________________________________________________\n",
            "conv_pw_3_bn (BatchNormaliza (None, None, None, 128)   512       \n",
            "_________________________________________________________________\n",
            "conv_pw_3_relu (ReLU)        (None, None, None, 128)   0         \n",
            "_________________________________________________________________\n",
            "conv_pad_4 (ZeroPadding2D)   (None, None, None, 128)   0         \n",
            "_________________________________________________________________\n",
            "conv_dw_4 (DepthwiseConv2D)  (None, None, None, 128)   1152      \n",
            "_________________________________________________________________\n",
            "conv_dw_4_bn (BatchNormaliza (None, None, None, 128)   512       \n",
            "_________________________________________________________________\n",
            "conv_dw_4_relu (ReLU)        (None, None, None, 128)   0         \n",
            "_________________________________________________________________\n",
            "conv_pw_4 (Conv2D)           (None, None, None, 256)   32768     \n",
            "_________________________________________________________________\n",
            "conv_pw_4_bn (BatchNormaliza (None, None, None, 256)   1024      \n",
            "_________________________________________________________________\n",
            "conv_pw_4_relu (ReLU)        (None, None, None, 256)   0         \n",
            "_________________________________________________________________\n",
            "conv_dw_5 (DepthwiseConv2D)  (None, None, None, 256)   2304      \n",
            "_________________________________________________________________\n",
            "conv_dw_5_bn (BatchNormaliza (None, None, None, 256)   1024      \n",
            "_________________________________________________________________\n",
            "conv_dw_5_relu (ReLU)        (None, None, None, 256)   0         \n",
            "_________________________________________________________________\n",
            "conv_pw_5 (Conv2D)           (None, None, None, 256)   65536     \n",
            "_________________________________________________________________\n",
            "conv_pw_5_bn (BatchNormaliza (None, None, None, 256)   1024      \n",
            "_________________________________________________________________\n",
            "conv_pw_5_relu (ReLU)        (None, None, None, 256)   0         \n",
            "_________________________________________________________________\n",
            "conv_pad_6 (ZeroPadding2D)   (None, None, None, 256)   0         \n",
            "_________________________________________________________________\n",
            "conv_dw_6 (DepthwiseConv2D)  (None, None, None, 256)   2304      \n",
            "_________________________________________________________________\n",
            "conv_dw_6_bn (BatchNormaliza (None, None, None, 256)   1024      \n",
            "_________________________________________________________________\n",
            "conv_dw_6_relu (ReLU)        (None, None, None, 256)   0         \n",
            "_________________________________________________________________\n",
            "conv_pw_6 (Conv2D)           (None, None, None, 512)   131072    \n",
            "_________________________________________________________________\n",
            "conv_pw_6_bn (BatchNormaliza (None, None, None, 512)   2048      \n",
            "_________________________________________________________________\n",
            "conv_pw_6_relu (ReLU)        (None, None, None, 512)   0         \n",
            "_________________________________________________________________\n",
            "conv_dw_7 (DepthwiseConv2D)  (None, None, None, 512)   4608      \n",
            "_________________________________________________________________\n",
            "conv_dw_7_bn (BatchNormaliza (None, None, None, 512)   2048      \n",
            "_________________________________________________________________\n",
            "conv_dw_7_relu (ReLU)        (None, None, None, 512)   0         \n",
            "_________________________________________________________________\n",
            "conv_pw_7 (Conv2D)           (None, None, None, 512)   262144    \n",
            "_________________________________________________________________\n",
            "conv_pw_7_bn (BatchNormaliza (None, None, None, 512)   2048      \n",
            "_________________________________________________________________\n",
            "conv_pw_7_relu (ReLU)        (None, None, None, 512)   0         \n",
            "_________________________________________________________________\n",
            "conv_dw_8 (DepthwiseConv2D)  (None, None, None, 512)   4608      \n",
            "_________________________________________________________________\n",
            "conv_dw_8_bn (BatchNormaliza (None, None, None, 512)   2048      \n",
            "_________________________________________________________________\n",
            "conv_dw_8_relu (ReLU)        (None, None, None, 512)   0         \n",
            "_________________________________________________________________\n",
            "conv_pw_8 (Conv2D)           (None, None, None, 512)   262144    \n",
            "_________________________________________________________________\n",
            "conv_pw_8_bn (BatchNormaliza (None, None, None, 512)   2048      \n",
            "_________________________________________________________________\n",
            "conv_pw_8_relu (ReLU)        (None, None, None, 512)   0         \n",
            "_________________________________________________________________\n",
            "conv_dw_9 (DepthwiseConv2D)  (None, None, None, 512)   4608      \n",
            "_________________________________________________________________\n",
            "conv_dw_9_bn (BatchNormaliza (None, None, None, 512)   2048      \n",
            "_________________________________________________________________\n",
            "conv_dw_9_relu (ReLU)        (None, None, None, 512)   0         \n",
            "_________________________________________________________________\n",
            "conv_pw_9 (Conv2D)           (None, None, None, 512)   262144    \n",
            "_________________________________________________________________\n",
            "conv_pw_9_bn (BatchNormaliza (None, None, None, 512)   2048      \n",
            "_________________________________________________________________\n",
            "conv_pw_9_relu (ReLU)        (None, None, None, 512)   0         \n",
            "_________________________________________________________________\n",
            "conv_dw_10 (DepthwiseConv2D) (None, None, None, 512)   4608      \n",
            "_________________________________________________________________\n",
            "conv_dw_10_bn (BatchNormaliz (None, None, None, 512)   2048      \n",
            "_________________________________________________________________\n",
            "conv_dw_10_relu (ReLU)       (None, None, None, 512)   0         \n",
            "_________________________________________________________________\n",
            "conv_pw_10 (Conv2D)          (None, None, None, 512)   262144    \n",
            "_________________________________________________________________\n",
            "conv_pw_10_bn (BatchNormaliz (None, None, None, 512)   2048      \n",
            "_________________________________________________________________\n",
            "conv_pw_10_relu (ReLU)       (None, None, None, 512)   0         \n",
            "_________________________________________________________________\n",
            "conv_dw_11 (DepthwiseConv2D) (None, None, None, 512)   4608      \n",
            "_________________________________________________________________\n",
            "conv_dw_11_bn (BatchNormaliz (None, None, None, 512)   2048      \n",
            "_________________________________________________________________\n",
            "conv_dw_11_relu (ReLU)       (None, None, None, 512)   0         \n",
            "_________________________________________________________________\n",
            "conv_pw_11 (Conv2D)          (None, None, None, 512)   262144    \n",
            "_________________________________________________________________\n",
            "conv_pw_11_bn (BatchNormaliz (None, None, None, 512)   2048      \n",
            "_________________________________________________________________\n",
            "conv_pw_11_relu (ReLU)       (None, None, None, 512)   0         \n",
            "_________________________________________________________________\n",
            "conv_pad_12 (ZeroPadding2D)  (None, None, None, 512)   0         \n",
            "_________________________________________________________________\n",
            "conv_dw_12 (DepthwiseConv2D) (None, None, None, 512)   4608      \n",
            "_________________________________________________________________\n",
            "conv_dw_12_bn (BatchNormaliz (None, None, None, 512)   2048      \n",
            "_________________________________________________________________\n",
            "conv_dw_12_relu (ReLU)       (None, None, None, 512)   0         \n",
            "_________________________________________________________________\n",
            "conv_pw_12 (Conv2D)          (None, None, None, 1024)  524288    \n",
            "_________________________________________________________________\n",
            "conv_pw_12_bn (BatchNormaliz (None, None, None, 1024)  4096      \n",
            "_________________________________________________________________\n",
            "conv_pw_12_relu (ReLU)       (None, None, None, 1024)  0         \n",
            "_________________________________________________________________\n",
            "conv_dw_13 (DepthwiseConv2D) (None, None, None, 1024)  9216      \n",
            "_________________________________________________________________\n",
            "conv_dw_13_bn (BatchNormaliz (None, None, None, 1024)  4096      \n",
            "_________________________________________________________________\n",
            "conv_dw_13_relu (ReLU)       (None, None, None, 1024)  0         \n",
            "_________________________________________________________________\n",
            "conv_pw_13 (Conv2D)          (None, None, None, 1024)  1048576   \n",
            "_________________________________________________________________\n",
            "conv_pw_13_bn (BatchNormaliz (None, None, None, 1024)  4096      \n",
            "_________________________________________________________________\n",
            "conv_pw_13_relu (ReLU)       (None, None, None, 1024)  0         \n",
            "_________________________________________________________________\n",
            "global_average_pooling2d (Gl (None, 1024)              0         \n",
            "_________________________________________________________________\n",
            "dropout (Dropout)            (None, 1024)              0         \n",
            "_________________________________________________________________\n",
            "batch_normalization (BatchNo (None, 1024)              4096      \n",
            "_________________________________________________________________\n",
            "dense (Dense)                (None, 512)               524800    \n",
            "_________________________________________________________________\n",
            "dense_1 (Dense)              (None, 3)                 1539      \n",
            "=================================================================\n",
            "Total params: 3,759,299\n",
            "Trainable params: 3,735,363\n",
            "Non-trainable params: 23,936\n",
            "_________________________________________________________________\n"
          ],
          "name": "stdout"
        }
      ]
    },
    {
      "cell_type": "code",
      "metadata": {
        "id": "6gVx0PzEF5p2"
      },
      "source": [
        "es = EarlyStopping(monitor='val_loss',\n",
        "                   patience=5,\n",
        "                   mode='auto',\n",
        "                   restore_best_weights=True)\n",
        "checkpoint = ModelCheckpoint('best_weight_scene_mobileNet.h5',\n",
        "                             monitor='val_accuracy',\n",
        "                             verbose=1,\n",
        "                             save_best_only=True,\n",
        "                             mode='auto',)"
      ],
      "execution_count": 30,
      "outputs": []
    },
    {
      "cell_type": "code",
      "metadata": {
        "id": "sny_9-wU8PGB"
      },
      "source": [
        "from keras.models import Sequential\n",
        "from keras.layers.core import Flatten\n",
        "from keras.layers.core import Dense\n",
        "\n",
        "model = Sequential(\n",
        "    [\n",
        "        Flatten(input_shape=(224,224,3,)),\n",
        "        Dense(300, activation=\"relu\", name=\"layer1\"),\n",
        "        Dense(100, activation=\"relu\", name=\"layer2\"),\n",
        "        Dense(5, activation = \"softmax\", name=\"layer5\"),\n",
        "    ]\n",
        ")"
      ],
      "execution_count": 117,
      "outputs": []
    },
    {
      "cell_type": "code",
      "metadata": {
        "colab": {
          "base_uri": "https://localhost:8080/"
        },
        "id": "L0TdWxuFPkT3",
        "outputId": "f5da3ca0-ae07-4adc-83c6-52930cfde25c"
      },
      "source": [
        "model.summary()"
      ],
      "execution_count": 119,
      "outputs": [
        {
          "output_type": "stream",
          "text": [
            "Model: \"sequential_22\"\n",
            "_________________________________________________________________\n",
            "Layer (type)                 Output Shape              Param #   \n",
            "=================================================================\n",
            "flatten_22 (Flatten)         (None, 150528)            0         \n",
            "_________________________________________________________________\n",
            "layer1 (Dense)               (None, 300)               45158700  \n",
            "_________________________________________________________________\n",
            "layer2 (Dense)               (None, 100)               30100     \n",
            "_________________________________________________________________\n",
            "layer5 (Dense)               (None, 5)                 505       \n",
            "=================================================================\n",
            "Total params: 45,189,305\n",
            "Trainable params: 45,189,305\n",
            "Non-trainable params: 0\n",
            "_________________________________________________________________\n"
          ],
          "name": "stdout"
        }
      ]
    },
    {
      "cell_type": "code",
      "metadata": {
        "colab": {
          "base_uri": "https://localhost:8080/"
        },
        "id": "ggcSdj_aVGCB",
        "scrolled": true,
        "outputId": "715a7b19-9fb7-4aca-a113-f4d32fcfea62"
      },
      "source": [
        "# train the model using the Adam optimizer\n",
        "print(\"Update Training Network\")\n",
        "opt = Adam(lr=1e-3, decay=1e-3 / 100)\n",
        "model.compile(loss=\"categorical_crossentropy\", optimizer=opt,\n",
        "\tmetrics=[\"accuracy\"])\n",
        "H = model.fit(trainX, trainY, validation_data= (testX, testY), epochs= 110\n",
        "              )"
      ],
      "execution_count": 120,
      "outputs": [
        {
          "output_type": "stream",
          "text": [
            "Update Training Network\n",
            "Epoch 1/110\n",
            "15/15 [==============================] - 1s 48ms/step - loss: 89.2308 - accuracy: 0.2220 - val_loss: 20.6664 - val_accuracy: 0.2137\n",
            "Epoch 2/110\n",
            "15/15 [==============================] - 0s 22ms/step - loss: 15.5146 - accuracy: 0.2716 - val_loss: 6.2669 - val_accuracy: 0.2564\n",
            "Epoch 3/110\n",
            "15/15 [==============================] - 0s 22ms/step - loss: 5.7740 - accuracy: 0.3384 - val_loss: 4.6837 - val_accuracy: 0.2735\n",
            "Epoch 4/110\n",
            "15/15 [==============================] - 0s 21ms/step - loss: 4.8690 - accuracy: 0.3082 - val_loss: 2.1713 - val_accuracy: 0.4530\n",
            "Epoch 5/110\n",
            "15/15 [==============================] - 0s 22ms/step - loss: 2.8785 - accuracy: 0.5022 - val_loss: 4.1741 - val_accuracy: 0.3932\n",
            "Epoch 6/110\n",
            "15/15 [==============================] - 0s 22ms/step - loss: 2.3886 - accuracy: 0.5065 - val_loss: 4.2943 - val_accuracy: 0.3248\n",
            "Epoch 7/110\n",
            "15/15 [==============================] - 0s 22ms/step - loss: 4.2063 - accuracy: 0.3922 - val_loss: 2.3070 - val_accuracy: 0.4530\n",
            "Epoch 8/110\n",
            "15/15 [==============================] - 0s 22ms/step - loss: 4.6650 - accuracy: 0.4159 - val_loss: 4.4533 - val_accuracy: 0.4103\n",
            "Epoch 9/110\n",
            "15/15 [==============================] - 0s 22ms/step - loss: 2.2228 - accuracy: 0.5625 - val_loss: 2.2001 - val_accuracy: 0.5556\n",
            "Epoch 10/110\n",
            "15/15 [==============================] - 0s 23ms/step - loss: 2.1807 - accuracy: 0.5474 - val_loss: 4.0157 - val_accuracy: 0.3675\n",
            "Epoch 11/110\n",
            "15/15 [==============================] - 0s 22ms/step - loss: 2.1617 - accuracy: 0.5841 - val_loss: 1.6961 - val_accuracy: 0.5641\n",
            "Epoch 12/110\n",
            "15/15 [==============================] - 0s 22ms/step - loss: 1.0153 - accuracy: 0.6789 - val_loss: 1.5936 - val_accuracy: 0.5385\n",
            "Epoch 13/110\n",
            "15/15 [==============================] - 0s 22ms/step - loss: 1.6767 - accuracy: 0.5819 - val_loss: 2.6739 - val_accuracy: 0.4359\n",
            "Epoch 14/110\n",
            "15/15 [==============================] - 0s 23ms/step - loss: 1.5039 - accuracy: 0.6056 - val_loss: 2.0142 - val_accuracy: 0.5556\n",
            "Epoch 15/110\n",
            "15/15 [==============================] - 0s 24ms/step - loss: 1.0193 - accuracy: 0.6983 - val_loss: 1.7835 - val_accuracy: 0.4872\n",
            "Epoch 16/110\n",
            "15/15 [==============================] - 0s 22ms/step - loss: 1.2589 - accuracy: 0.6444 - val_loss: 1.3574 - val_accuracy: 0.6239\n",
            "Epoch 17/110\n",
            "15/15 [==============================] - 0s 22ms/step - loss: 1.1942 - accuracy: 0.6293 - val_loss: 2.4925 - val_accuracy: 0.5470\n",
            "Epoch 18/110\n",
            "15/15 [==============================] - 0s 22ms/step - loss: 1.7435 - accuracy: 0.5733 - val_loss: 1.7196 - val_accuracy: 0.5385\n",
            "Epoch 19/110\n",
            "15/15 [==============================] - 0s 22ms/step - loss: 1.6096 - accuracy: 0.6401 - val_loss: 3.6019 - val_accuracy: 0.3846\n",
            "Epoch 20/110\n",
            "15/15 [==============================] - 0s 22ms/step - loss: 1.3250 - accuracy: 0.6681 - val_loss: 1.5543 - val_accuracy: 0.5641\n",
            "Epoch 21/110\n",
            "15/15 [==============================] - 0s 23ms/step - loss: 1.1347 - accuracy: 0.6789 - val_loss: 2.1600 - val_accuracy: 0.5470\n",
            "Epoch 22/110\n",
            "15/15 [==============================] - 0s 22ms/step - loss: 0.8457 - accuracy: 0.7220 - val_loss: 1.7233 - val_accuracy: 0.5812\n",
            "Epoch 23/110\n",
            "15/15 [==============================] - 0s 22ms/step - loss: 0.6918 - accuracy: 0.7586 - val_loss: 1.6624 - val_accuracy: 0.5983\n",
            "Epoch 24/110\n",
            "15/15 [==============================] - 0s 22ms/step - loss: 0.6955 - accuracy: 0.7737 - val_loss: 1.4751 - val_accuracy: 0.6496\n",
            "Epoch 25/110\n",
            "15/15 [==============================] - 0s 22ms/step - loss: 0.6660 - accuracy: 0.7672 - val_loss: 1.3140 - val_accuracy: 0.6239\n",
            "Epoch 26/110\n",
            "15/15 [==============================] - 0s 23ms/step - loss: 0.5591 - accuracy: 0.8017 - val_loss: 1.1933 - val_accuracy: 0.6838\n",
            "Epoch 27/110\n",
            "15/15 [==============================] - 0s 22ms/step - loss: 0.5130 - accuracy: 0.8190 - val_loss: 1.4461 - val_accuracy: 0.5897\n",
            "Epoch 28/110\n",
            "15/15 [==============================] - 0s 21ms/step - loss: 1.0031 - accuracy: 0.6810 - val_loss: 3.0051 - val_accuracy: 0.5128\n",
            "Epoch 29/110\n",
            "15/15 [==============================] - 0s 22ms/step - loss: 1.8022 - accuracy: 0.6034 - val_loss: 2.1349 - val_accuracy: 0.5726\n",
            "Epoch 30/110\n",
            "15/15 [==============================] - 0s 22ms/step - loss: 1.1578 - accuracy: 0.6767 - val_loss: 2.6810 - val_accuracy: 0.4017\n",
            "Epoch 31/110\n",
            "15/15 [==============================] - 0s 22ms/step - loss: 1.6718 - accuracy: 0.6250 - val_loss: 1.5379 - val_accuracy: 0.5726\n",
            "Epoch 32/110\n",
            "15/15 [==============================] - 0s 22ms/step - loss: 0.6667 - accuracy: 0.7716 - val_loss: 1.0615 - val_accuracy: 0.6496\n",
            "Epoch 33/110\n",
            "15/15 [==============================] - 0s 22ms/step - loss: 0.4787 - accuracy: 0.8039 - val_loss: 1.8383 - val_accuracy: 0.5556\n",
            "Epoch 34/110\n",
            "15/15 [==============================] - 0s 22ms/step - loss: 0.7888 - accuracy: 0.7220 - val_loss: 1.5838 - val_accuracy: 0.5726\n",
            "Epoch 35/110\n",
            "15/15 [==============================] - 0s 21ms/step - loss: 0.9349 - accuracy: 0.7112 - val_loss: 1.2621 - val_accuracy: 0.6581\n",
            "Epoch 36/110\n",
            "15/15 [==============================] - 0s 21ms/step - loss: 1.1678 - accuracy: 0.6810 - val_loss: 4.1391 - val_accuracy: 0.3761\n",
            "Epoch 37/110\n",
            "15/15 [==============================] - 0s 21ms/step - loss: 0.8715 - accuracy: 0.7672 - val_loss: 1.1521 - val_accuracy: 0.6410\n",
            "Epoch 38/110\n",
            "15/15 [==============================] - 0s 22ms/step - loss: 0.4527 - accuracy: 0.8168 - val_loss: 1.1185 - val_accuracy: 0.6838\n",
            "Epoch 39/110\n",
            "15/15 [==============================] - 0s 23ms/step - loss: 0.4802 - accuracy: 0.8190 - val_loss: 0.8161 - val_accuracy: 0.7436\n",
            "Epoch 40/110\n",
            "15/15 [==============================] - 0s 22ms/step - loss: 0.2754 - accuracy: 0.8966 - val_loss: 1.0552 - val_accuracy: 0.6923\n",
            "Epoch 41/110\n",
            "15/15 [==============================] - 0s 21ms/step - loss: 1.0129 - accuracy: 0.7134 - val_loss: 1.1281 - val_accuracy: 0.7094\n",
            "Epoch 42/110\n",
            "15/15 [==============================] - 0s 22ms/step - loss: 0.3998 - accuracy: 0.8685 - val_loss: 1.3276 - val_accuracy: 0.7179\n",
            "Epoch 43/110\n",
            "15/15 [==============================] - 0s 22ms/step - loss: 0.3502 - accuracy: 0.8664 - val_loss: 0.9475 - val_accuracy: 0.7009\n",
            "Epoch 44/110\n",
            "15/15 [==============================] - 0s 21ms/step - loss: 0.3181 - accuracy: 0.8879 - val_loss: 1.2008 - val_accuracy: 0.6667\n",
            "Epoch 45/110\n",
            "15/15 [==============================] - 0s 22ms/step - loss: 0.2621 - accuracy: 0.8944 - val_loss: 0.9865 - val_accuracy: 0.6838\n",
            "Epoch 46/110\n",
            "15/15 [==============================] - 0s 21ms/step - loss: 0.2185 - accuracy: 0.9138 - val_loss: 1.2567 - val_accuracy: 0.6667\n",
            "Epoch 47/110\n",
            "15/15 [==============================] - 0s 22ms/step - loss: 0.5398 - accuracy: 0.8039 - val_loss: 1.7654 - val_accuracy: 0.5385\n",
            "Epoch 48/110\n",
            "15/15 [==============================] - 0s 22ms/step - loss: 1.2434 - accuracy: 0.6983 - val_loss: 3.0497 - val_accuracy: 0.4872\n",
            "Epoch 49/110\n",
            "15/15 [==============================] - 0s 22ms/step - loss: 1.2312 - accuracy: 0.6810 - val_loss: 2.0304 - val_accuracy: 0.5983\n",
            "Epoch 50/110\n",
            "15/15 [==============================] - 0s 22ms/step - loss: 0.6718 - accuracy: 0.7651 - val_loss: 1.4482 - val_accuracy: 0.6496\n",
            "Epoch 51/110\n",
            "15/15 [==============================] - 0s 21ms/step - loss: 0.6202 - accuracy: 0.8147 - val_loss: 2.7446 - val_accuracy: 0.4872\n",
            "Epoch 52/110\n",
            "15/15 [==============================] - 0s 22ms/step - loss: 0.6823 - accuracy: 0.7737 - val_loss: 1.3340 - val_accuracy: 0.6239\n",
            "Epoch 53/110\n",
            "15/15 [==============================] - 0s 22ms/step - loss: 0.4588 - accuracy: 0.8147 - val_loss: 1.1618 - val_accuracy: 0.6838\n",
            "Epoch 54/110\n",
            "15/15 [==============================] - 0s 22ms/step - loss: 0.2916 - accuracy: 0.8879 - val_loss: 1.1002 - val_accuracy: 0.7094\n",
            "Epoch 55/110\n",
            "15/15 [==============================] - 0s 22ms/step - loss: 0.4232 - accuracy: 0.8513 - val_loss: 1.2606 - val_accuracy: 0.6838\n",
            "Epoch 56/110\n",
            "15/15 [==============================] - 0s 22ms/step - loss: 0.2270 - accuracy: 0.9310 - val_loss: 0.7747 - val_accuracy: 0.7607\n",
            "Epoch 57/110\n",
            "15/15 [==============================] - 0s 22ms/step - loss: 0.1075 - accuracy: 0.9677 - val_loss: 0.9041 - val_accuracy: 0.7265\n",
            "Epoch 58/110\n",
            "15/15 [==============================] - 0s 22ms/step - loss: 0.1764 - accuracy: 0.9203 - val_loss: 0.7415 - val_accuracy: 0.8034\n",
            "Epoch 59/110\n",
            "15/15 [==============================] - 0s 22ms/step - loss: 0.3752 - accuracy: 0.8556 - val_loss: 1.1951 - val_accuracy: 0.6667\n",
            "Epoch 60/110\n",
            "15/15 [==============================] - 0s 22ms/step - loss: 0.2890 - accuracy: 0.8944 - val_loss: 1.0496 - val_accuracy: 0.6838\n",
            "Epoch 61/110\n",
            "15/15 [==============================] - 0s 22ms/step - loss: 0.2648 - accuracy: 0.8987 - val_loss: 1.0018 - val_accuracy: 0.7009\n",
            "Epoch 62/110\n",
            "15/15 [==============================] - 0s 21ms/step - loss: 0.2150 - accuracy: 0.9116 - val_loss: 1.1906 - val_accuracy: 0.6667\n",
            "Epoch 63/110\n",
            "15/15 [==============================] - 0s 22ms/step - loss: 0.2280 - accuracy: 0.9009 - val_loss: 0.7651 - val_accuracy: 0.7607\n",
            "Epoch 64/110\n",
            "15/15 [==============================] - 0s 22ms/step - loss: 0.1842 - accuracy: 0.9375 - val_loss: 1.0599 - val_accuracy: 0.7265\n",
            "Epoch 65/110\n",
            "15/15 [==============================] - 0s 22ms/step - loss: 0.1831 - accuracy: 0.9353 - val_loss: 0.8773 - val_accuracy: 0.7436\n",
            "Epoch 66/110\n",
            "15/15 [==============================] - 0s 22ms/step - loss: 0.1569 - accuracy: 0.9504 - val_loss: 1.5870 - val_accuracy: 0.6752\n",
            "Epoch 67/110\n",
            "15/15 [==============================] - 0s 22ms/step - loss: 0.1538 - accuracy: 0.9461 - val_loss: 0.9883 - val_accuracy: 0.6752\n",
            "Epoch 68/110\n",
            "15/15 [==============================] - 0s 22ms/step - loss: 0.2417 - accuracy: 0.9138 - val_loss: 1.1018 - val_accuracy: 0.7179\n",
            "Epoch 69/110\n",
            "15/15 [==============================] - 0s 22ms/step - loss: 0.2095 - accuracy: 0.9116 - val_loss: 1.2949 - val_accuracy: 0.6496\n",
            "Epoch 70/110\n",
            "15/15 [==============================] - 0s 21ms/step - loss: 0.1920 - accuracy: 0.9267 - val_loss: 0.9194 - val_accuracy: 0.7436\n",
            "Epoch 71/110\n",
            "15/15 [==============================] - 0s 22ms/step - loss: 0.2130 - accuracy: 0.9246 - val_loss: 0.7742 - val_accuracy: 0.8034\n",
            "Epoch 72/110\n",
            "15/15 [==============================] - 0s 22ms/step - loss: 0.2503 - accuracy: 0.9116 - val_loss: 1.0410 - val_accuracy: 0.7094\n",
            "Epoch 73/110\n",
            "15/15 [==============================] - 0s 22ms/step - loss: 0.1095 - accuracy: 0.9698 - val_loss: 0.8251 - val_accuracy: 0.7778\n",
            "Epoch 74/110\n",
            "15/15 [==============================] - 0s 22ms/step - loss: 0.0617 - accuracy: 0.9892 - val_loss: 1.0824 - val_accuracy: 0.7094\n",
            "Epoch 75/110\n",
            "15/15 [==============================] - 0s 22ms/step - loss: 0.0839 - accuracy: 0.9720 - val_loss: 0.7931 - val_accuracy: 0.8205\n",
            "Epoch 76/110\n",
            "15/15 [==============================] - 0s 21ms/step - loss: 0.1032 - accuracy: 0.9591 - val_loss: 0.7964 - val_accuracy: 0.7949\n",
            "Epoch 77/110\n",
            "15/15 [==============================] - 0s 21ms/step - loss: 0.0821 - accuracy: 0.9784 - val_loss: 1.0522 - val_accuracy: 0.7009\n",
            "Epoch 78/110\n",
            "15/15 [==============================] - 0s 23ms/step - loss: 0.0808 - accuracy: 0.9784 - val_loss: 0.9755 - val_accuracy: 0.7350\n",
            "Epoch 79/110\n",
            "15/15 [==============================] - 0s 21ms/step - loss: 0.0786 - accuracy: 0.9784 - val_loss: 0.8209 - val_accuracy: 0.8376\n",
            "Epoch 80/110\n",
            "15/15 [==============================] - 0s 22ms/step - loss: 0.0885 - accuracy: 0.9784 - val_loss: 0.8826 - val_accuracy: 0.7436\n",
            "Epoch 81/110\n",
            "15/15 [==============================] - 0s 22ms/step - loss: 0.0603 - accuracy: 0.9871 - val_loss: 0.8731 - val_accuracy: 0.7607\n",
            "Epoch 82/110\n",
            "15/15 [==============================] - 0s 22ms/step - loss: 0.0476 - accuracy: 1.0000 - val_loss: 0.8943 - val_accuracy: 0.7778\n",
            "Epoch 83/110\n",
            "15/15 [==============================] - 0s 22ms/step - loss: 0.0370 - accuracy: 1.0000 - val_loss: 0.7957 - val_accuracy: 0.7949\n",
            "Epoch 84/110\n",
            "15/15 [==============================] - 0s 22ms/step - loss: 0.0372 - accuracy: 1.0000 - val_loss: 0.8032 - val_accuracy: 0.7607\n",
            "Epoch 85/110\n",
            "15/15 [==============================] - 0s 22ms/step - loss: 0.0379 - accuracy: 0.9978 - val_loss: 0.9221 - val_accuracy: 0.7436\n",
            "Epoch 86/110\n",
            "15/15 [==============================] - 0s 22ms/step - loss: 0.0531 - accuracy: 0.9892 - val_loss: 0.8307 - val_accuracy: 0.7778\n",
            "Epoch 87/110\n",
            "15/15 [==============================] - 0s 21ms/step - loss: 0.0340 - accuracy: 0.9978 - val_loss: 0.8602 - val_accuracy: 0.7521\n",
            "Epoch 88/110\n",
            "15/15 [==============================] - 0s 22ms/step - loss: 0.0304 - accuracy: 1.0000 - val_loss: 0.8059 - val_accuracy: 0.8120\n",
            "Epoch 89/110\n",
            "15/15 [==============================] - 0s 22ms/step - loss: 0.0309 - accuracy: 1.0000 - val_loss: 0.8431 - val_accuracy: 0.7436\n",
            "Epoch 90/110\n",
            "15/15 [==============================] - 0s 21ms/step - loss: 0.0274 - accuracy: 1.0000 - val_loss: 0.9202 - val_accuracy: 0.7607\n",
            "Epoch 91/110\n",
            "15/15 [==============================] - 0s 20ms/step - loss: 0.0306 - accuracy: 1.0000 - val_loss: 0.8558 - val_accuracy: 0.7692\n",
            "Epoch 92/110\n",
            "15/15 [==============================] - 0s 22ms/step - loss: 0.0330 - accuracy: 0.9978 - val_loss: 0.7869 - val_accuracy: 0.7863\n",
            "Epoch 93/110\n",
            "15/15 [==============================] - 0s 22ms/step - loss: 0.0249 - accuracy: 1.0000 - val_loss: 0.8217 - val_accuracy: 0.7607\n",
            "Epoch 94/110\n",
            "15/15 [==============================] - 0s 21ms/step - loss: 0.0248 - accuracy: 1.0000 - val_loss: 0.7731 - val_accuracy: 0.8120\n",
            "Epoch 95/110\n",
            "15/15 [==============================] - 0s 22ms/step - loss: 0.0234 - accuracy: 1.0000 - val_loss: 0.7943 - val_accuracy: 0.7521\n",
            "Epoch 96/110\n",
            "15/15 [==============================] - 0s 22ms/step - loss: 0.0217 - accuracy: 1.0000 - val_loss: 0.7748 - val_accuracy: 0.8034\n",
            "Epoch 97/110\n",
            "15/15 [==============================] - 0s 21ms/step - loss: 0.0182 - accuracy: 1.0000 - val_loss: 0.7766 - val_accuracy: 0.7863\n",
            "Epoch 98/110\n",
            "15/15 [==============================] - 0s 22ms/step - loss: 0.0189 - accuracy: 1.0000 - val_loss: 0.8201 - val_accuracy: 0.7521\n",
            "Epoch 99/110\n",
            "15/15 [==============================] - 0s 22ms/step - loss: 0.0179 - accuracy: 1.0000 - val_loss: 0.7960 - val_accuracy: 0.7692\n",
            "Epoch 100/110\n",
            "15/15 [==============================] - 0s 21ms/step - loss: 0.0175 - accuracy: 1.0000 - val_loss: 0.7830 - val_accuracy: 0.7778\n",
            "Epoch 101/110\n",
            "15/15 [==============================] - 0s 23ms/step - loss: 0.0169 - accuracy: 1.0000 - val_loss: 0.7949 - val_accuracy: 0.7607\n",
            "Epoch 102/110\n",
            "15/15 [==============================] - 0s 22ms/step - loss: 0.0172 - accuracy: 1.0000 - val_loss: 0.7660 - val_accuracy: 0.8120\n",
            "Epoch 103/110\n",
            "15/15 [==============================] - 0s 22ms/step - loss: 0.0172 - accuracy: 1.0000 - val_loss: 0.7833 - val_accuracy: 0.7949\n",
            "Epoch 104/110\n",
            "15/15 [==============================] - 0s 22ms/step - loss: 0.0177 - accuracy: 1.0000 - val_loss: 0.7997 - val_accuracy: 0.7692\n",
            "Epoch 105/110\n",
            "15/15 [==============================] - 0s 22ms/step - loss: 0.0192 - accuracy: 1.0000 - val_loss: 0.7903 - val_accuracy: 0.7692\n",
            "Epoch 106/110\n",
            "15/15 [==============================] - 0s 22ms/step - loss: 0.0229 - accuracy: 1.0000 - val_loss: 0.8269 - val_accuracy: 0.7692\n",
            "Epoch 107/110\n",
            "15/15 [==============================] - 0s 22ms/step - loss: 0.0171 - accuracy: 1.0000 - val_loss: 0.8061 - val_accuracy: 0.7607\n",
            "Epoch 108/110\n",
            "15/15 [==============================] - 0s 21ms/step - loss: 0.0161 - accuracy: 1.0000 - val_loss: 0.7727 - val_accuracy: 0.7949\n",
            "Epoch 109/110\n",
            "15/15 [==============================] - 0s 22ms/step - loss: 0.0156 - accuracy: 1.0000 - val_loss: 0.7972 - val_accuracy: 0.7778\n",
            "Epoch 110/110\n",
            "15/15 [==============================] - 0s 21ms/step - loss: 0.0164 - accuracy: 1.0000 - val_loss: 0.8079 - val_accuracy: 0.8120\n"
          ],
          "name": "stdout"
        }
      ]
    },
    {
      "cell_type": "code",
      "metadata": {
        "colab": {
          "base_uri": "https://localhost:8080/",
          "height": 590
        },
        "id": "98_oXi-lcgux",
        "outputId": "790241db-4884-4ea3-ef3b-db69664b6544"
      },
      "source": [
        "import matplotlib.pyplot as plt\n",
        "\n",
        "print(H.history.keys())\n",
        "# summarize history for accuracy\n",
        "plt.plot(H.history['accuracy'])\n",
        "plt.plot(H.history['val_accuracy'])\n",
        "plt.title('model accuracy')\n",
        "plt.ylabel('accuracy')\n",
        "plt.xlabel('epoch')\n",
        "plt.legend(['train', 'test'], loc='upper left')\n",
        "plt.show()\n",
        "# summarize history for loss\n",
        "plt.plot(H.history['loss'])\n",
        "plt.plot(H.history['val_loss'])\n",
        "plt.title('model loss')\n",
        "plt.ylabel('loss')\n",
        "plt.xlabel('epoch')\n",
        "plt.legend(['train', 'test'], loc='upper left')\n",
        "plt.show()"
      ],
      "execution_count": 121,
      "outputs": [
        {
          "output_type": "stream",
          "text": [
            "dict_keys(['loss', 'accuracy', 'val_loss', 'val_accuracy'])\n"
          ],
          "name": "stdout"
        },
        {
          "output_type": "display_data",
          "data": {
            "image/png": "[encoded data removed]",
            "text/plain": [
              "<Figure size 432x288 with 1 Axes>"
            ]
          },
          "metadata": {
            "tags": [],
            "needs_background": "light"
          }
        },
        {
          "output_type": "display_data",
          "data": {
            "image/png": "[encoded data removed]",
            "text/plain": [
              "<Figure size 432x288 with 1 Axes>"
            ]
          },
          "metadata": {
            "tags": [],
            "needs_background": "light"
          }
        }
      ]
    },
    {
      "cell_type": "code",
      "metadata": {
        "colab": {
          "base_uri": "https://localhost:8080/"
        },
        "id": "lPAZkmBJVGCD",
        "outputId": "25a68ab3-3937-4afb-9826-f448a6148c11"
      },
      "source": [
        "# evaluate the network\n",
        "print(\"[INFO] evaluating network...\")\n",
        "predictions = model.predict(testX, batch_size=32)\n",
        "print(classification_report(testY.argmax(axis=1),\n",
        "\tpredictions.argmax(axis=1), target_names=lb.classes_))"
      ],
      "execution_count": 122,
      "outputs": [
        {
          "output_type": "stream",
          "text": [
            "[INFO] evaluating network...\n",
            "              precision    recall  f1-score   support\n",
            "\n",
            "      GMB_01       0.89      0.76      0.82        21\n",
            "      GMB_02       0.73      0.83      0.78        23\n",
            "      GMB_07       0.79      0.76      0.78        25\n",
            "      GMB_08       0.80      0.91      0.85        22\n",
            "      GMB_10       0.88      0.81      0.84        26\n",
            "\n",
            "    accuracy                           0.81       117\n",
            "   macro avg       0.82      0.81      0.81       117\n",
            "weighted avg       0.82      0.81      0.81       117\n",
            "\n"
          ],
          "name": "stdout"
        }
      ]
    },
    {
      "cell_type": "code",
      "metadata": {
        "id": "cu5SSxXyiOs3",
        "colab": {
          "base_uri": "https://localhost:8080/"
        },
        "outputId": "403c88f9-dfe9-41fd-a6c9-23348e22c006"
      },
      "source": [
        "loss, accuracy = model.evaluate(testX, testY, verbose=0)\n",
        "\n",
        "print('Test loss:', loss)\n",
        "print('Test accuracy:', accuracy)"
      ],
      "execution_count": 123,
      "outputs": [
        {
          "output_type": "stream",
          "text": [
            "Test loss: 0.8078877925872803\n",
            "Test accuracy: 0.811965823173523\n"
          ],
          "name": "stdout"
        }
      ]
    }
  ]
}